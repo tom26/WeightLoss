{
 "cells": [
  {
   "cell_type": "markdown",
   "metadata": {},
   "source": [
    "# Weight Loss Plot"
   ]
  },
  {
   "cell_type": "code",
   "execution_count": null,
   "metadata": {
    "collapsed": false
   },
   "outputs": [],
   "source": [
    "using Plots\n",
    "using LaTeXStrings\n",
    "using Dates\n",
    "using LsqFit\n",
    "\n",
    "MColor = [\"#0072BD\", \"#D95319\", \"#EDB120\", \"#7E2F8E\", \"#77AC30\", \"#4DBEEE\"]\n",
    "\n",
    "\n",
    "#Provide Data for Weights and Calories\n",
    "include(\"./MyWeights.jl\")\n",
    "\n",
    "#Line of Best Fit\n",
    "@. model(x, p) = p[1] + p[2]*x\n",
    "p0 = [101.6, -0.5]\n",
    "fit = curve_fit(model, Weights[:,1], Weights[:,2], p0)\n",
    "\n",
    "\n",
    "#Target weight loss (0.5 kg/week)\n",
    "Days_Linear = LinRange(1,70,100)\n",
    "Target_Weight = Days_Linear*(-0.5/7) .+ 100.6\n",
    "Target_Weight_2 = Days_Linear*(-1/7) .+ 100.6\n",
    "#scatter!(Calories[:,1], Calories[:,2], color = MColor[2], markerstrokealpha = 0.0)\n",
    "#plot!(Days_Linear, Target_Weight, color = :black, ls = :dash, lw = 1.5, label = \"\")\n",
    "plot(Days_Linear, day -> model(day, coef(fit)), color = :black, lw = 2, ls = :dash, label = \"\")\n",
    "plot!(Days_Linear, day -> model(day, [confidence_interval(fit)[1][1], confidence_interval(fit)[2][1]]), color = :black, lw = 1.5, ls = :dash, label = \"\")\n",
    "plot!(Days_Linear, day -> model(day, [confidence_interval(fit)[1][2], confidence_interval(fit)[2][2]]), color = :black, lw = 1.5, ls = :dash, label = \"\")\n",
    "#display(plot!(Days_Linear, Target_Weight_2, color = :black, ls = :dash, lw = 1.5,\n",
    "display(scatter!(Weights[:,1], Weights[:,2], color = MColor[1], label = \"\", markerstrokewidth = 0.0,\n",
    "    xlabel = \"Days\",\n",
    "    ylabel = \"Weight (kg)\",  \n",
    "    size = (400,400), \n",
    "    framestyle=:box, \n",
    "    tickfont = font(12, \"serif-roman\"), \n",
    "    fontfamily = \"serif-roman\", \n",
    "    guidefontsize = 14, \n",
    "    grid=false))\n",
    "    \n",
    "    \n",
    "println(\"Best Estimate of Weight Loss Rate: \", round(coef(fit)[2]*7, sigdigits = 2), \" kg/week\")\n",
    "println(\"95% Confidence Interval:\", round.(confidence_interval(fit)[2].*7, sigdigits = 2), \" kg/week\")\n",
    "scatter(Calories[:,1], Calories[:,2], color = MColor[1], label = \"\", markerstrokewidth = 0.0,\n",
    "    xlabel = \"Days\",\n",
    "    ylabel = \"Calories (kcal)\",  \n",
    "    size = (400,400), \n",
    "    framestyle=:box, \n",
    "    ylims = (0, 600),\n",
    "    tickfont = font(12, \"serif-roman\"), \n",
    "    fontfamily = \"serif-roman\", \n",
    "    guidefontsize = 14, \n",
    "    grid=false)"
   ]
  },
  {
   "cell_type": "code",
   "execution_count": 2,
   "metadata": {
    "collapsed": true
   },
   "outputs": [],
   "source": []
  }
 ],
 "metadata": {
  "kernelspec": {
   "display_name": "Julia 1.6.3",
   "language": "julia",
   "name": "julia-1.6"
  },
  "language_info": {
   "file_extension": ".jl",
   "mimetype": "application/julia",
   "name": "julia",
   "version": "1.6.3"
  }
 },
 "nbformat": 4,
 "nbformat_minor": 2
}
